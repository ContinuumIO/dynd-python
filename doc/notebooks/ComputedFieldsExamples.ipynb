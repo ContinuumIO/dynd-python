{
 "metadata": {
  "name": "ComputedFieldsExamples"
 },
 "nbformat": 3,
 "nbformat_minor": 0,
 "worksheets": [
  {
   "cells": [
    {
     "cell_type": "markdown",
     "metadata": {},
     "source": [
      "## Computed Fields in Blaze/DyND\n",
      "\n",
      "This demo shows a mechanism for creating computed fields, creating 'full name' and 'age' fields.\n",
      "\n",
      "To start, we import the DyND library."
     ]
    },
    {
     "cell_type": "code",
     "collapsed": false,
     "input": [
      "from dynd import nd, ndt"
     ],
     "language": "python",
     "metadata": {},
     "outputs": [],
     "prompt_number": 49
    },
    {
     "cell_type": "markdown",
     "metadata": {},
     "source": [
      "Let's start by created a table with name and birthday fields."
     ]
    },
    {
     "cell_type": "code",
     "collapsed": false,
     "input": [
      "a = nd.ndobject([('Smith', 'John', '1979-01-22'),\n",
      "                ('Katz', 'Barbara', '1990-12-03'),\n",
      "                ('Barker', 'Henry', '1979-06-12')],\n",
      "            udtype='{lastname: string(32); firstname: string(32); birthday: date}')"
     ],
     "language": "python",
     "metadata": {},
     "outputs": [],
     "prompt_number": 50
    },
    {
     "cell_type": "code",
     "collapsed": false,
     "input": [
      "a"
     ],
     "language": "python",
     "metadata": {},
     "outputs": [
      {
       "output_type": "pyout",
       "prompt_number": 51,
       "text": [
        "nd.ndobject([[\"Smith\", \"John\", 1979-01-22], [\"Katz\", \"Barbara\", 1990-12-03], [\"Barker\", \"Henry\", 1979-06-12]], strided_dim<fixedstruct<string<32> lastname, string<32> firstname, date birthday>>)"
       ]
      }
     ],
     "prompt_number": 51
    },
    {
     "cell_type": "markdown",
     "metadata": {},
     "source": [
      "Because we used fixed-buffer strings, we can reassign their values and convert them into NumPy."
     ]
    },
    {
     "cell_type": "code",
     "collapsed": false,
     "input": [
      "a[2].firstname = 'George'"
     ],
     "language": "python",
     "metadata": {},
     "outputs": [],
     "prompt_number": 52
    },
    {
     "cell_type": "code",
     "collapsed": false,
     "input": [
      "nd.as_numpy(a, allow_copy=True)"
     ],
     "language": "python",
     "metadata": {},
     "outputs": [
      {
       "output_type": "pyout",
       "prompt_number": 53,
       "text": [
        "array([(u'Smith', u'John', datetime.date(1979, 1, 22)),\n",
        "       (u'Katz', u'Barbara', datetime.date(1990, 12, 3)),\n",
        "       (u'Barker', u'George', datetime.date(1979, 6, 12))], \n",
        "      dtype={'names':['lastname','firstname','birthday'], 'formats':['<U32','<U32','<M8[D]'], 'offsets':[0,128,256], 'itemsize':264, 'aligned':True})"
       ]
      }
     ],
     "prompt_number": 53
    },
    {
     "cell_type": "markdown",
     "metadata": {},
     "source": [
      "Now let's add our two computed fields.\n",
      "\n",
      "The first one, 'fullname', is simple, we simply concatenate the first and last name strings together. The second one, 'age', is a little trickier. There doesn't seem to be a simple one-liner for this, and the code here will crash on February 29th, but hopefully it demonstrates the idea nicely."
     ]
    },
    {
     "cell_type": "code",
     "collapsed": false,
     "input": [
      "b = nd.add_computed_fields(a, [('fullname', ndt.string, 'firstname + \" \" + lastname'),\n",
      "    ('age', ndt.int32, 'date.today().year - birthday.year - 1 + (date.today().replace(year=birthday.year) >= birthday)')])"
     ],
     "language": "python",
     "metadata": {},
     "outputs": [],
     "prompt_number": 54
    },
    {
     "cell_type": "markdown",
     "metadata": {},
     "source": [
      "Now 'b' is a deferred evaluation object, with a fairly complicated dynd type. You don't need to know what's going on in the dtype printout, but here it is for show."
     ]
    },
    {
     "cell_type": "code",
     "collapsed": false,
     "input": [
      "b.dtype"
     ],
     "language": "python",
     "metadata": {},
     "outputs": [
      {
       "output_type": "pyout",
       "prompt_number": 56,
       "text": [
        "nd.dtype('strided_dim<expr<fixedstruct<string<32> lastname, string<32> firstname, date birthday, string fullname, int32 age>, op0=fixedstruct<string<32> lastname, string<32> firstname, date birthday>, expr=computed_field_expr(op0)>>')"
       ]
      }
     ],
     "prompt_number": 56
    },
    {
     "cell_type": "markdown",
     "metadata": {},
     "source": [
      "We can evaluate back to an object with no deferred expression using the 'eval' method."
     ]
    },
    {
     "cell_type": "code",
     "collapsed": false,
     "input": [
      "b.eval()"
     ],
     "language": "python",
     "metadata": {},
     "outputs": [
      {
       "output_type": "pyout",
       "prompt_number": 57,
       "text": [
        "nd.ndobject([[\"Smith\", \"John\", 1979-01-22, \"John Smith\", 34], [\"Katz\", \"Barbara\", 1990-12-03, \"Barbara Katz\", 22], [\"Barker\", \"George\", 1979-06-12, \"George Barker\", 33]], strided_dim<fixedstruct<string<32> lastname, string<32> firstname, date birthday, string fullname, int32 age>>)"
       ]
      }
     ],
     "prompt_number": 57
    },
    {
     "cell_type": "code",
     "collapsed": false,
     "input": [
      "nd.as_py(b)"
     ],
     "language": "python",
     "metadata": {},
     "outputs": [
      {
       "output_type": "pyout",
       "prompt_number": 55,
       "text": [
        "[{u'age': 34,\n",
        "  u'birthday': datetime.date(1979, 1, 22),\n",
        "  u'firstname': u'John',\n",
        "  u'fullname': u'John Smith',\n",
        "  u'lastname': u'Smith'},\n",
        " {u'age': 22,\n",
        "  u'birthday': datetime.date(1990, 12, 3),\n",
        "  u'firstname': u'Barbara',\n",
        "  u'fullname': u'Barbara Katz',\n",
        "  u'lastname': u'Katz'},\n",
        " {u'age': 33,\n",
        "  u'birthday': datetime.date(1979, 6, 12),\n",
        "  u'firstname': u'George',\n",
        "  u'fullname': u'George Barker',\n",
        "  u'lastname': u'Barker'}]"
       ]
      }
     ],
     "prompt_number": 55
    },
    {
     "cell_type": "code",
     "collapsed": false,
     "input": [],
     "language": "python",
     "metadata": {},
     "outputs": []
    }
   ],
   "metadata": {}
  }
 ]
}