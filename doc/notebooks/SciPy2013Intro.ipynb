{
 "metadata": {
  "name": "SciPy2013Intro"
 },
 "nbformat": 3,
 "nbformat_minor": 0,
 "worksheets": [
  {
   "cells": [
    {
     "cell_type": "code",
     "collapsed": false,
     "input": [
      "import sys, dynd\n",
      "print('Python %s' % sys.version)\n",
      "print('DyND Python Bindings %s' % dynd.__version__)\n",
      "print('LibDyND %s' % dynd.__libdynd_version__)"
     ],
     "language": "python",
     "metadata": {},
     "outputs": [
      {
       "output_type": "stream",
       "stream": "stdout",
       "text": [
        "Python 3.3.2 |Continuum Analytics, Inc.| (default, May 17 2013, 11:32:27) [MSC v.1500 64 bit (AMD64)]\n",
        "DyND Python Bindings 0.3.1.post22-gbd80882-dirty\n",
        "LibDyND 0.3.1.post13-g3e1bc56\n"
       ]
      }
     ],
     "prompt_number": 1
    },
    {
     "cell_type": "markdown",
     "metadata": {},
     "source": [
      "Standard dynd import: The `nd` namespace is for array operations, and the `ndt` namespace is for types."
     ]
    },
    {
     "cell_type": "code",
     "collapsed": false,
     "input": [
      "from dynd import nd, ndt"
     ],
     "language": "python",
     "metadata": {},
     "outputs": [],
     "prompt_number": 2
    },
    {
     "cell_type": "markdown",
     "metadata": {},
     "source": [
      "---"
     ]
    },
    {
     "cell_type": "markdown",
     "metadata": {},
     "source": [
      "Basic usage is quite similar to numpy, the data type is deduced from python types when converting."
     ]
    },
    {
     "cell_type": "code",
     "collapsed": false,
     "input": [
      "nd.array([1,2,3,4,5])"
     ],
     "language": "python",
     "metadata": {},
     "outputs": [
      {
       "output_type": "pyout",
       "prompt_number": 3,
       "text": [
        "nd.array([1, 2, 3, 4, 5], strided_dim<int32>)"
       ]
      }
     ],
     "prompt_number": 3
    },
    {
     "cell_type": "code",
     "collapsed": false,
     "input": [
      "nd.array([[1, 1.5], [-1.5, 1]])"
     ],
     "language": "python",
     "metadata": {},
     "outputs": [
      {
       "output_type": "pyout",
       "prompt_number": 4,
       "text": [
        "nd.array([[1, 1.5], [-1.5, 1]], strided_dim<strided_dim<float64>>)"
       ]
      }
     ],
     "prompt_number": 4
    },
    {
     "cell_type": "markdown",
     "metadata": {},
     "source": [
      "You can see some significant differences with numpy at this level already, such as the array dimensionality being included in the type. Some other differences are the default string type, the lack of separate scalar objects, and support for additional dimension types such as for ragged arrays."
     ]
    },
    {
     "cell_type": "code",
     "collapsed": false,
     "input": [
      "nd.array([\"this\", \"is\", \"a\", \"test\"])"
     ],
     "language": "python",
     "metadata": {},
     "outputs": [
      {
       "output_type": "pyout",
       "prompt_number": 5,
       "text": [
        "nd.array([\"this\", \"is\", \"a\", \"test\"], strided_dim<string>)"
       ]
      }
     ],
     "prompt_number": 5
    },
    {
     "cell_type": "code",
     "collapsed": false,
     "input": [
      "nd.array(3.14159)"
     ],
     "language": "python",
     "metadata": {},
     "outputs": [
      {
       "output_type": "pyout",
       "prompt_number": 6,
       "text": [
        "nd.array(3.14159, float64)"
       ]
      }
     ],
     "prompt_number": 6
    },
    {
     "cell_type": "code",
     "collapsed": false,
     "input": [
      "nd.array([[1,5,2], [1], [7,9,10,20,13]])"
     ],
     "language": "python",
     "metadata": {},
     "outputs": [
      {
       "output_type": "pyout",
       "prompt_number": 7,
       "text": [
        "nd.array([[1, 5, 2], [1], [7, 9, 10, 20, 13]], strided_dim<var_dim<int32>>)"
       ]
      }
     ],
     "prompt_number": 7
    },
    {
     "cell_type": "markdown",
     "metadata": {},
     "source": [
      "---"
     ]
    },
    {
     "cell_type": "markdown",
     "metadata": {},
     "source": [
      "As a part of blaze, dynd is based on its datashape type system notation. This provides a convenient way to create arrays of structs."
     ]
    },
    {
     "cell_type": "code",
     "collapsed": false,
     "input": [
      "x = nd.array([('XDress - Type, But Verify', 'Anthony Scopatz', '2013-06-26T11:55', 204),\n",
      "          ('matplotlib: past, present and future', 'Michael Droettboom', '2013-06-27T10:15', 106),\n",
      "          ('The DyND Library', 'Mark Wiebe', '2013-06-27T14:35', 203),\n",
      "          ('The advantages of a scientific IDE', 'Carlos Cordoba', '2013-06-26T11:30', 203)],\n",
      "        '{title: string; presenter: string; time: datetime(\"min\"); room: int32}')\n",
      "x"
     ],
     "language": "python",
     "metadata": {},
     "outputs": [
      {
       "output_type": "pyout",
       "prompt_number": 8,
       "text": [
        "nd.array([[\"XDress - Type, But Verify\", \"Anthony Scopatz\", 2013-06-26T11:55, 204], [\"matplotlib: past, present and future\", \"Michael Droettboom\", 2013-06-27T10:15, 106], [\"The DyND Library\", \"Mark Wiebe\", 2013-06-27T14:35, 203], [\"The advantages of a scientific IDE\", \"Carlos Cordoba\", 2013-06-26T11:30, 203]], strided_dim<cstruct<string title, string presenter, datetime<unit=minute,tz=abstract> time, int32 room>>)"
       ]
      }
     ],
     "prompt_number": 8
    },
    {
     "cell_type": "markdown",
     "metadata": {},
     "source": [
      "Field access can be done directly via python attributes."
     ]
    },
    {
     "cell_type": "code",
     "collapsed": false,
     "input": [
      "x.room"
     ],
     "language": "python",
     "metadata": {},
     "outputs": [
      {
       "output_type": "pyout",
       "prompt_number": 9,
       "text": [
        "nd.array([204, 106, 203, 203], strided_dim<int32>)"
       ]
      }
     ],
     "prompt_number": 9
    },
    {
     "cell_type": "markdown",
     "metadata": {},
     "source": [
      "Or, equivalently, by indexing into the dimension of the struct."
     ]
    },
    {
     "cell_type": "code",
     "collapsed": false,
     "input": [
      "x[:,3]"
     ],
     "language": "python",
     "metadata": {},
     "outputs": [
      {
       "output_type": "pyout",
       "prompt_number": 10,
       "text": [
        "nd.array([204, 106, 203, 203], strided_dim<int32>)"
       ]
      }
     ],
     "prompt_number": 10
    },
    {
     "cell_type": "code",
     "collapsed": false,
     "input": [
      "x[:, :2]"
     ],
     "language": "python",
     "metadata": {},
     "outputs": [
      {
       "output_type": "pyout",
       "prompt_number": 11,
       "text": [
        "nd.array([[\"XDress - Type, But Verify\", \"Anthony Scopatz\"], [\"matplotlib: past, present and future\", \"Michael Droettboom\"], [\"The DyND Library\", \"Mark Wiebe\"], [\"The advantages of a scientific IDE\", \"Carlos Cordoba\"]], strided_dim<struct<string title, string presenter>>)"
       ]
      }
     ],
     "prompt_number": 11
    },
    {
     "cell_type": "markdown",
     "metadata": {},
     "source": [
      "---"
     ]
    },
    {
     "cell_type": "markdown",
     "metadata": {},
     "source": [
      "There is a preliminary groupby operation implemented. This is very basic compared to advanced stats packages like pandas, but demonstrates how the results of operations like this can be represented well within the dynd array."
     ]
    },
    {
     "cell_type": "code",
     "collapsed": false,
     "input": [
      "g = nd.groupby(x, x.room)\n",
      "g.groups"
     ],
     "language": "python",
     "metadata": {},
     "outputs": [
      {
       "output_type": "pyout",
       "prompt_number": 32,
       "text": [
        "nd.array([106, 203, 204], strided_dim<int32>)"
       ]
      }
     ],
     "prompt_number": 32
    },
    {
     "cell_type": "code",
     "collapsed": false,
     "input": [
      "g.eval()[1]"
     ],
     "language": "python",
     "metadata": {},
     "outputs": [
      {
       "output_type": "pyout",
       "prompt_number": 14,
       "text": [
        "nd.array([[\"The DyND Library\", \"Mark Wiebe\", 2013-06-27T14:35, 203], [\"The advantages of a scientific IDE\", \"Carlos Cordoba\", 2013-06-26T11:30, 203]], strided_dim<cstruct<string title, string presenter, datetime<unit=minute,tz=abstract> time, int32 room>>)"
       ]
      }
     ],
     "prompt_number": 14
    },
    {
     "cell_type": "markdown",
     "metadata": {},
     "source": [
      "Another simple groupby, this time by date."
     ]
    },
    {
     "cell_type": "code",
     "collapsed": false,
     "input": [
      "g = nd.groupby(x, x.time.date)\n",
      "g.groups"
     ],
     "language": "python",
     "metadata": {},
     "outputs": [
      {
       "output_type": "pyout",
       "prompt_number": 33,
       "text": [
        "nd.array([2013-06-26, 2013-06-27], strided_dim<date>)"
       ]
      }
     ],
     "prompt_number": 33
    },
    {
     "cell_type": "code",
     "collapsed": false,
     "input": [
      "g.eval()[1]"
     ],
     "language": "python",
     "metadata": {},
     "outputs": [
      {
       "output_type": "pyout",
       "prompt_number": 17,
       "text": [
        "nd.array([[\"matplotlib: past, present and future\", \"Michael Droettboom\", 2013-06-27T10:15, 106], [\"The DyND Library\", \"Mark Wiebe\", 2013-06-27T14:35, 203]], strided_dim<cstruct<string title, string presenter, datetime<unit=minute,tz=abstract> time, int32 room>>)"
       ]
      }
     ],
     "prompt_number": 17
    },
    {
     "cell_type": "markdown",
     "metadata": {},
     "source": [
      "---"
     ]
    },
    {
     "cell_type": "markdown",
     "metadata": {},
     "source": [
      "Evaluation of expressions is deferred, which in some cases can be used to make interesting views of data."
     ]
    },
    {
     "cell_type": "code",
     "collapsed": false,
     "input": [
      "a = nd.array([\"2011-07-11\", \"2012-07-16\", \"2013-06-24\"], udtype=\"string(10,'A')\")"
     ],
     "language": "python",
     "metadata": {},
     "outputs": [],
     "prompt_number": 19
    },
    {
     "cell_type": "code",
     "collapsed": false,
     "input": [
      "a[0]"
     ],
     "language": "python",
     "metadata": {},
     "outputs": [
      {
       "output_type": "pyout",
       "prompt_number": 20,
       "text": [
        "nd.array(\"2011-07-11\", string<10,'ascii'>)"
       ]
      }
     ],
     "prompt_number": 20
    },
    {
     "cell_type": "code",
     "collapsed": false,
     "input": [
      "b = a.ucast(ndt.date)"
     ],
     "language": "python",
     "metadata": {},
     "outputs": [],
     "prompt_number": 21
    },
    {
     "cell_type": "code",
     "collapsed": false,
     "input": [
      "b[0]"
     ],
     "language": "python",
     "metadata": {},
     "outputs": [
      {
       "output_type": "pyout",
       "prompt_number": 22,
       "text": [
        "nd.array(2011-07-11, convert<to=date, from=string<10,'ascii'>>)"
       ]
      }
     ],
     "prompt_number": 22
    },
    {
     "cell_type": "code",
     "collapsed": false,
     "input": [
      "b[0] = b[0].replace(month=3)"
     ],
     "language": "python",
     "metadata": {},
     "outputs": [],
     "prompt_number": 24
    },
    {
     "cell_type": "code",
     "collapsed": false,
     "input": [
      "a[0]"
     ],
     "language": "python",
     "metadata": {},
     "outputs": [
      {
       "output_type": "pyout",
       "prompt_number": 25,
       "text": [
        "nd.array(\"2011-03-11\", string<10,'ascii'>)"
       ]
      }
     ],
     "prompt_number": 25
    },
    {
     "cell_type": "markdown",
     "metadata": {},
     "source": [
      "The ascii size-10 strings we created is compatible with numpy. Whenever dynd data is compatible with numpy, we can create views."
     ]
    },
    {
     "cell_type": "code",
     "collapsed": false,
     "input": [
      "c = nd.as_numpy(a)\n",
      "c"
     ],
     "language": "python",
     "metadata": {},
     "outputs": [
      {
       "output_type": "pyout",
       "prompt_number": 29,
       "text": [
        "array([b'2011-03-11', b'2012-07-16', b'2013-06-24'], \n",
        "      dtype='|S10')"
       ]
      }
     ],
     "prompt_number": 29
    },
    {
     "cell_type": "code",
     "collapsed": false,
     "input": [
      "c[1] = \"2010-07-16\""
     ],
     "language": "python",
     "metadata": {},
     "outputs": [],
     "prompt_number": 30
    },
    {
     "cell_type": "code",
     "collapsed": false,
     "input": [
      "b[1]"
     ],
     "language": "python",
     "metadata": {},
     "outputs": [
      {
       "output_type": "pyout",
       "prompt_number": 31,
       "text": [
        "nd.array(2010-07-16, convert<to=date, from=string<10,'ascii'>>)"
       ]
      }
     ],
     "prompt_number": 31
    },
    {
     "cell_type": "code",
     "collapsed": false,
     "input": [],
     "language": "python",
     "metadata": {},
     "outputs": []
    }
   ],
   "metadata": {}
  }
 ]
}