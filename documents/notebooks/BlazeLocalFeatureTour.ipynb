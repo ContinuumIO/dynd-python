{
 "metadata": {
  "name": "BlazeLocalFeatureTour"
 },
 "nbformat": 3,
 "nbformat_minor": 0,
 "worksheets": [
  {
   "cells": [
    {
     "cell_type": "heading",
     "level": 1,
     "metadata": {},
     "source": [
      "BlazeLocal Feature Tour"
     ]
    },
    {
     "cell_type": "markdown",
     "metadata": {},
     "source": [
      "BlazeLocal is a multi-dimensional array library for Python, available as a preview release, which provides functionality augmenting the NumPy/Matplotlib/SciPy computing stack. As a preview release, we are prepared to change anything in the library, and are currently developing it in an incubation form. Over the course of the releases leading up to 1.0, we expect it to become gradually more stable, and encourage people to experiment with the library and peruse the roadmap to get an idea of where things are going.\n",
      "\n",
      "BlazeLocal is a component of Blaze, which will layer a broader distributed storage and compute system on top of BlazeLocal, Numpy, and other systems. It is built using the dynamicndarray library, a C++ library also in preview release mode.\n",
      "\n",
      "To get started, after installing Blaze using CMake or a provided binary package, import BlazeLocal with the following command. This namespace is designed to always be used as a namespace, and things will not work properly if `import *` is used."
     ]
    },
    {
     "cell_type": "code",
     "collapsed": false,
     "input": [
      "from blaze import nd"
     ],
     "language": "python",
     "metadata": {},
     "outputs": [],
     "prompt_number": 1
    },
    {
     "cell_type": "heading",
     "level": 2,
     "metadata": {},
     "source": [
      "Making NDArrays"
     ]
    },
    {
     "cell_type": "markdown",
     "metadata": {},
     "source": [
      "The primitive object is `nd.ndarray`, which can be used to create multi-dimensional arrays of various types."
     ]
    },
    {
     "cell_type": "code",
     "collapsed": false,
     "input": [
      "nd.ndarray(3.14)"
     ],
     "language": "python",
     "metadata": {},
     "outputs": [
      {
       "output_type": "pyout",
       "prompt_number": 5,
       "text": [
        "ndarray(3.14, float64)"
       ]
      }
     ],
     "prompt_number": 5
    },
    {
     "cell_type": "code",
     "collapsed": false,
     "input": [
      "nd.ndarray([1,2,3])"
     ],
     "language": "python",
     "metadata": {},
     "outputs": [
      {
       "output_type": "pyout",
       "prompt_number": 6,
       "text": [
        "ndarray([1, 2, 3], int32)"
       ]
      }
     ],
     "prompt_number": 6
    },
    {
     "cell_type": "code",
     "collapsed": false,
     "input": [
      "nd.ndarray([1,2.5,1+3j])"
     ],
     "language": "python",
     "metadata": {},
     "outputs": [
      {
       "output_type": "pyout",
       "prompt_number": 7,
       "text": [
        "ndarray([(1,0), (2.5,0), (1,3)], complex<float64>)"
       ]
      }
     ],
     "prompt_number": 7
    },
    {
     "cell_type": "code",
     "collapsed": false,
     "input": [
      "nd.ndarray(True)"
     ],
     "language": "python",
     "metadata": {},
     "outputs": [
      {
       "output_type": "pyout",
       "prompt_number": 8,
       "text": [
        "ndarray(true, bool)"
       ]
      }
     ],
     "prompt_number": 8
    },
    {
     "cell_type": "markdown",
     "metadata": {},
     "source": [
      "In the case of strings, the scalar string constructor can use the internal Python string data by using a dtype with the right encoding. To respect the immutability of Python strings, the resulting ndarray object is itself immutable as well."
     ]
    },
    {
     "cell_type": "code",
     "collapsed": false,
     "input": [
      "nd.ndarray(\"a string\")"
     ],
     "language": "python",
     "metadata": {},
     "outputs": [
      {
       "output_type": "pyout",
       "prompt_number": 3,
       "text": [
        "ndarray(\"a string\", string<ascii>)"
       ]
      }
     ],
     "prompt_number": 3
    },
    {
     "cell_type": "code",
     "collapsed": false,
     "input": [
      "nd.ndarray(u\"a string\")"
     ],
     "language": "python",
     "metadata": {},
     "outputs": [
      {
       "output_type": "pyout",
       "prompt_number": 4,
       "text": [
        "ndarray(\"a string\", string<ucs_2>)"
       ]
      }
     ],
     "prompt_number": 4
    },
    {
     "cell_type": "heading",
     "level": 2,
     "metadata": {},
     "source": [
      "Converting to Python Types"
     ]
    },
    {
     "cell_type": "markdown",
     "metadata": {},
     "source": [
      "In many cases you will want to convert an ndarray back into Python objects. The ndarray has an `as_py` function to do this."
     ]
    },
    {
     "cell_type": "code",
     "collapsed": false,
     "input": [
      "a = nd.ndarray([1,2.5,1+3j])\n",
      "a.as_py()"
     ],
     "language": "python",
     "metadata": {},
     "outputs": [
      {
       "output_type": "pyout",
       "prompt_number": 9,
       "text": [
        "[(1+0j), (2.5+0j), (1+3j)]"
       ]
      }
     ],
     "prompt_number": 9
    },
    {
     "cell_type": "code",
     "collapsed": false,
     "input": [
      "a = nd.ndarray(\"a string\")\n",
      "a.as_py()"
     ],
     "language": "python",
     "metadata": {},
     "outputs": [
      {
       "output_type": "pyout",
       "prompt_number": 10,
       "text": [
        "u'a string'"
       ]
      }
     ],
     "prompt_number": 10
    },
    {
     "cell_type": "heading",
     "level": 2,
     "metadata": {},
     "source": [
      "DTypes"
     ]
    },
    {
     "cell_type": "markdown",
     "metadata": {},
     "source": [
      "Similar to NumPy, there are dtypes available in the `nd` namespace. The type of these objects is `nd.dtype`, there is no separate set of scalar types as in Numpy."
     ]
    },
    {
     "cell_type": "code",
     "collapsed": false,
     "input": [
      "nd.bool"
     ],
     "language": "python",
     "metadata": {},
     "outputs": [
      {
       "output_type": "pyout",
       "prompt_number": 11,
       "text": [
        "pydnd.bool"
       ]
      }
     ],
     "prompt_number": 11
    },
    {
     "cell_type": "code",
     "collapsed": false,
     "input": [
      "nd.int32"
     ],
     "language": "python",
     "metadata": {},
     "outputs": [
      {
       "output_type": "pyout",
       "prompt_number": 12,
       "text": [
        "pydnd.int32"
       ]
      }
     ],
     "prompt_number": 12
    },
    {
     "cell_type": "code",
     "collapsed": false,
     "input": [
      "nd.complex_float64"
     ],
     "language": "python",
     "metadata": {},
     "outputs": [
      {
       "output_type": "pyout",
       "prompt_number": 13,
       "text": [
        "pydnd.dtype('complex<float64>')"
       ]
      }
     ],
     "prompt_number": 13
    },
    {
     "cell_type": "markdown",
     "metadata": {},
     "source": [
      "For constructing more complicated dtypes, the current preview release provides `nd.make_*` functions which can be used."
     ]
    },
    {
     "cell_type": "code",
     "collapsed": false,
     "input": [
      "nd.make_byteswap_dtype(nd.int32)"
     ],
     "language": "python",
     "metadata": {},
     "outputs": [
      {
       "output_type": "pyout",
       "prompt_number": 14,
       "text": [
        "pydnd.dtype('byteswap<int32>')"
       ]
      }
     ],
     "prompt_number": 14
    },
    {
     "cell_type": "heading",
     "level": 2,
     "metadata": {},
     "source": [
      "Converting NDArray DTypes"
     ]
    },
    {
     "cell_type": "code",
     "collapsed": false,
     "input": [
      "a = nd.ndarray([1.0, 2.0, 3.0])\n",
      "print a.as_dtype(nd.int16)"
     ],
     "language": "python",
     "metadata": {},
     "outputs": [
      {
       "output_type": "stream",
       "stream": "stdout",
       "text": [
        "ndarray([1, 2, 3], convert<to=int16, from=float64, errmode=fractional>)\n"
       ]
      }
     ],
     "prompt_number": 16
    },
    {
     "cell_type": "code",
     "collapsed": false,
     "input": [],
     "language": "python",
     "metadata": {},
     "outputs": []
    }
   ],
   "metadata": {}
  }
 ]
}