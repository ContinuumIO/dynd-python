{
 "metadata": {
  "name": "BlazeLocalFeatureTour"
 },
 "nbformat": 3,
 "nbformat_minor": 0,
 "worksheets": [
  {
   "cells": [
    {
     "cell_type": "heading",
     "level": 1,
     "metadata": {},
     "source": [
      "BlazeLocal Feature Tour"
     ]
    },
    {
     "cell_type": "markdown",
     "metadata": {},
     "source": [
      "BlazeLocal is a multi-dimensional array library for Python, available as a preview release, which provides functionality augmenting the NumPy/Matplotlib/SciPy computing stack. As a preview release, we are prepared to change anything in the library, and are currently developing it in an incubation form. Over the course of the releases leading up to 1.0, we expect it to become gradually more stable, and encourage people to experiment with the library and peruse the roadmap to get an idea of where things are going.\n",
      "\n",
      "BlazeLocal is a component of Blaze, which will layer a broader distributed storage and compute system on top of BlazeLocal, Numpy, and other systems. It is built using the dynamicndarray library, a C++ library also in preview release mode.\n",
      "\n",
      "To get started, after installing Blaze using CMake or a provided binary package, import BlazeLocal with the following command. This namespace is designed to always be used as a namespace, and things will not work properly if `import *` is used."
     ]
    },
    {
     "cell_type": "code",
     "collapsed": false,
     "input": [
      "from blaze import nd"
     ],
     "language": "python",
     "metadata": {},
     "outputs": []
    },
    {
     "cell_type": "heading",
     "level": 2,
     "metadata": {},
     "source": [
      "Making NDArrays"
     ]
    },
    {
     "cell_type": "markdown",
     "metadata": {},
     "source": [
      "The primitive object is `nd.ndarray`, which can be used to create multi-dimensional arrays of various types."
     ]
    },
    {
     "cell_type": "code",
     "collapsed": false,
     "input": [
      "nd.ndarray(3.14)"
     ],
     "language": "python",
     "metadata": {},
     "outputs": []
    },
    {
     "cell_type": "code",
     "collapsed": false,
     "input": [
      "nd.ndarray([1,2,3])"
     ],
     "language": "python",
     "metadata": {},
     "outputs": []
    },
    {
     "cell_type": "code",
     "collapsed": false,
     "input": [
      "nd.ndarray([1,2.5,1+3j])"
     ],
     "language": "python",
     "metadata": {},
     "outputs": []
    },
    {
     "cell_type": "code",
     "collapsed": false,
     "input": [
      "nd.ndarray(True)"
     ],
     "language": "python",
     "metadata": {},
     "outputs": []
    },
    {
     "cell_type": "markdown",
     "metadata": {},
     "source": [
      "In the case of strings, the scalar string constructor can use the internal Python string data by using a dtype with the right encoding. To respect the immutability of Python strings, the resulting ndarray object is itself immutable as well."
     ]
    },
    {
     "cell_type": "code",
     "collapsed": false,
     "input": [
      "nd.ndarray(\"a string\")"
     ],
     "language": "python",
     "metadata": {},
     "outputs": []
    },
    {
     "cell_type": "code",
     "collapsed": false,
     "input": [
      "nd.ndarray(u\"a string\")"
     ],
     "language": "python",
     "metadata": {},
     "outputs": []
    },
    {
     "cell_type": "heading",
     "level": 2,
     "metadata": {},
     "source": [
      "Converting to Python Types"
     ]
    },
    {
     "cell_type": "markdown",
     "metadata": {},
     "source": [
      "In many cases you will want to convert an ndarray back into Python objects. The ndarray has an `as_py` function to do this."
     ]
    },
    {
     "cell_type": "code",
     "collapsed": false,
     "input": [
      "a = nd.ndarray([1,2.5,1+3j])\n",
      "a.as_py()"
     ],
     "language": "python",
     "metadata": {},
     "outputs": []
    },
    {
     "cell_type": "code",
     "collapsed": false,
     "input": [
      "a = nd.ndarray(\"a string\")\n",
      "a.as_py()"
     ],
     "language": "python",
     "metadata": {},
     "outputs": []
    },
    {
     "cell_type": "heading",
     "level": 2,
     "metadata": {},
     "source": [
      "DTypes"
     ]
    },
    {
     "cell_type": "markdown",
     "metadata": {},
     "source": [
      "Similar to NumPy, there are dtypes available in the `nd` namespace. The type of these objects is `nd.dtype`, there is no separate set of scalar types as in Numpy."
     ]
    },
    {
     "cell_type": "code",
     "collapsed": false,
     "input": [
      "nd.bool"
     ],
     "language": "python",
     "metadata": {},
     "outputs": []
    },
    {
     "cell_type": "code",
     "collapsed": false,
     "input": [
      "nd.int32"
     ],
     "language": "python",
     "metadata": {},
     "outputs": []
    },
    {
     "cell_type": "code",
     "collapsed": false,
     "input": [
      "nd.complex_float64"
     ],
     "language": "python",
     "metadata": {},
     "outputs": []
    },
    {
     "cell_type": "markdown",
     "metadata": {},
     "source": [
      "For constructing more complicated dtypes, the current preview release provides `nd.make_*` functions which can be used."
     ]
    },
    {
     "cell_type": "code",
     "collapsed": false,
     "input": [
      "nd.make_byteswap_dtype(nd.int32)"
     ],
     "language": "python",
     "metadata": {},
     "outputs": []
    },
    {
     "cell_type": "heading",
     "level": 2,
     "metadata": {},
     "source": [
      "Converting NDArray DTypes"
     ]
    },
    {
     "cell_type": "markdown",
     "metadata": {},
     "source": [
      "One can convert arrays from one type to another using the `as_dtype` method. Note how it allows conversion from floating point to integer with no complaints."
     ]
    },
    {
     "cell_type": "code",
     "collapsed": false,
     "input": [
      "a = nd.ndarray([1.0, 2.0, 3.0])\n",
      "a.as_dtype(nd.int16)"
     ],
     "language": "python",
     "metadata": {},
     "outputs": []
    },
    {
     "cell_type": "markdown",
     "metadata": {},
     "source": [
      "What it is doing is checking that the values themselves can be converted. If we add a fraction part to one of the elements, it fails."
     ]
    },
    {
     "cell_type": "code",
     "collapsed": false,
     "input": [
      "a = nd.ndarray([1.0, 2.1, 3.0])\n",
      "print a.as_dtype(nd.int16)"
     ],
     "language": "python",
     "metadata": {},
     "outputs": []
    },
    {
     "cell_type": "markdown",
     "metadata": {},
     "source": [
      "Similarly, if the conversion would overflow, an error is also raised."
     ]
    },
    {
     "cell_type": "code",
     "collapsed": false,
     "input": [
      "a = nd.ndarray([1.0, 33000, 3.0])\n",
      "print a.as_dtype(nd.int16)"
     ],
     "language": "python",
     "metadata": {},
     "outputs": []
    },
    {
     "cell_type": "markdown",
     "metadata": {},
     "source": [
      "The mode used for error checking can be customized with a parameter to the `as_dtype` function."
     ]
    },
    {
     "cell_type": "code",
     "collapsed": false,
     "input": [
      "a = nd.ndarray([1.0, 3.1, 3.0])\n",
      "a.as_dtype(nd.int16, error_mode='overflow')"
     ],
     "language": "python",
     "metadata": {},
     "outputs": []
    },
    {
     "cell_type": "heading",
     "level": 2,
     "metadata": {},
     "source": [
      "Interoperability with NumPy"
     ]
    },
    {
     "cell_type": "markdown",
     "metadata": {},
     "source": [
      "BlazeLocal has the ability to seamlessly move data to/from Numpy when the data can be represented in both systems. This allows you to experiment with new features in an existing Numpy/Scipy codebase, without requiring any new redundant copies of your data in memory."
     ]
    },
    {
     "cell_type": "code",
     "collapsed": false,
     "input": [
      "import numpy as np"
     ],
     "language": "python",
     "metadata": {},
     "outputs": []
    },
    {
     "cell_type": "markdown",
     "metadata": {},
     "source": [
      "Numpy arrays can be passed as parameters to BlazeLocal functions."
     ]
    },
    {
     "cell_type": "code",
     "collapsed": false,
     "input": [
      "a = np.arange(10)\n",
      "print np.sum(a)\n",
      "print nd.sum(a)"
     ],
     "language": "python",
     "metadata": {},
     "outputs": []
    },
    {
     "cell_type": "markdown",
     "metadata": {},
     "source": [
      "BlazeLocal arrays can be passed as parameters to Numpy functions."
     ]
    },
    {
     "cell_type": "code",
     "collapsed": false,
     "input": [
      "a = nd.ndarray(np.arange(6).reshape(2,3))\n",
      "print np.sum(a, axis=1)\n",
      "print nd.sum(a, axis=1)"
     ],
     "language": "python",
     "metadata": {},
     "outputs": []
    },
    {
     "cell_type": "markdown",
     "metadata": {},
     "source": [
      "In addition to the `string` data type, BlazeLocal has a `fixedstring` dtype which supports strings in the same form as Numpy."
     ]
    },
    {
     "cell_type": "code",
     "collapsed": false,
     "input": [
      "a = np.array([\"testing\", \"one\", \"two\", \"three\"], dtype='U16')\n",
      "print nd.ndarray(a)"
     ],
     "language": "python",
     "metadata": {},
     "outputs": []
    },
    {
     "cell_type": "heading",
     "level": 2,
     "metadata": {},
     "source": [
      "Elementwise GFuncs"
     ]
    },
    {
     "cell_type": "markdown",
     "metadata": {},
     "source": [
      "BlazeLocal has a very preliminary version of gfuncs, starting with elementwise operations and reductions. Elementwise gfuncs are very similar to Numpy ufuncs, but in their current form they do not yet do implicit type conversions, so to call a gfunc you must make the types match a kernel signature exactly. There is a small collection of gfuncs included in this preview release."
     ]
    },
    {
     "cell_type": "code",
     "collapsed": false,
     "input": [
      "nd.maximum(3,10)"
     ],
     "language": "python",
     "metadata": {},
     "outputs": []
    },
    {
     "cell_type": "markdown",
     "metadata": {},
     "source": [
      "Broadcasting of the operands works like it does in Numpy."
     ]
    },
    {
     "cell_type": "code",
     "collapsed": false,
     "input": [
      "nd.maximum([1,3,5,9,4], 5)"
     ],
     "language": "python",
     "metadata": {},
     "outputs": []
    },
    {
     "cell_type": "code",
     "collapsed": false,
     "input": [
      "nd.maximum([[1,5],[10,2],[4,4]], [3,3])"
     ],
     "language": "python",
     "metadata": {},
     "outputs": []
    },
    {
     "cell_type": "heading",
     "level": 2,
     "metadata": {},
     "source": [
      "Elementwise Reduction GFuncs"
     ]
    },
    {
     "cell_type": "markdown",
     "metadata": {},
     "source": [
      "Elementwise reduction gfuncs behave similarly to the ones in Numpy."
     ]
    },
    {
     "cell_type": "code",
     "collapsed": false,
     "input": [
      "nd.max([[1,5],[10,1],[3,3]])"
     ],
     "language": "python",
     "metadata": {},
     "outputs": []
    },
    {
     "cell_type": "code",
     "collapsed": false,
     "input": [
      "nd.max([[1,5],[10,1],[3,3]], axis=1)"
     ],
     "language": "python",
     "metadata": {},
     "outputs": []
    },
    {
     "cell_type": "code",
     "collapsed": false,
     "input": [
      "nd.max([[1,5],[10,1],[3,3]], axis=1, keepdims=True)"
     ],
     "language": "python",
     "metadata": {},
     "outputs": []
    },
    {
     "cell_type": "heading",
     "level": 2,
     "metadata": {},
     "source": [
      "Groupby Reductions"
     ]
    },
    {
     "cell_type": "markdown",
     "metadata": {},
     "source": [
      "BlazeLocal has a simple `nd.groupby` function which, when combined with elementwise reductions, can be used for groupby reductions."
     ]
    },
    {
     "cell_type": "code",
     "collapsed": false,
     "input": [
      "data = np.array([0, 1, 2, 3, 4, 5, 6, 7])\n",
      "by = np.array(['a', 'a', 'c', 'a', 'b', 'c', 'a', 'd'])\n",
      "groups = nd.factor_categorical_dtype(by)\n",
      "gb = nd.groupby(data, by, groups)\n",
      "print(groups)\n",
      "print(\"max:     \", nd.max(gb, axis=1))\n",
      "print(\"min:     \", nd.min(gb, axis=1))\n",
      "print(\"sum:     \", nd.sum(gb, axis=1))\n",
      "print(\"product: \", nd.product(gb, axis=1))"
     ],
     "language": "python",
     "metadata": {},
     "outputs": []
    },
    {
     "cell_type": "heading",
     "level": 2,
     "metadata": {},
     "source": [
      "Lazy Evaluation"
     ]
    },
    {
     "cell_type": "markdown",
     "metadata": {},
     "source": [
      "Operations in BlazeLocal which produce `ndarray` results are always lazily evaluated. As a result, an `ndarray` may contain an arbitrary expression tree representing the computations that led up to it."
     ]
    },
    {
     "cell_type": "code",
     "collapsed": false,
     "input": [
      "a = nd.ndarray(3)\n",
      "b = nd.ndarray([3., 4.])\n",
      "c = a * b"
     ],
     "language": "python",
     "metadata": {},
     "outputs": []
    },
    {
     "cell_type": "code",
     "collapsed": false,
     "input": [
      "c.debug_dump()"
     ],
     "language": "python",
     "metadata": {},
     "outputs": []
    },
    {
     "cell_type": "markdown",
     "metadata": {},
     "source": [
      "The effect of this is that `c` is a view of the expression `a + b`, and changing the value of elements in `b` changes the value of `c`."
     ]
    },
    {
     "cell_type": "code",
     "collapsed": false,
     "input": [
      "a = nd.ndarray(3)\n",
      "b = nd.ndarray([3., 4.])\n",
      "c = a * b\n",
      "print c\n",
      "b[1].val_assign(50)\n",
      "print c"
     ],
     "language": "python",
     "metadata": {},
     "outputs": []
    },
    {
     "cell_type": "markdown",
     "metadata": {},
     "source": [
      "Only a small subset of possible expression trees are currently evaluated by the system. This will change as the evaluation subsystem is fully implemented."
     ]
    },
    {
     "cell_type": "code",
     "collapsed": false,
     "input": [
      "a = nd.ndarray(3)\n",
      "b = nd.ndarray([0, 3.1, 5])"
     ],
     "language": "python",
     "metadata": {},
     "outputs": []
    },
    {
     "cell_type": "code",
     "collapsed": false,
     "input": [
      "print a + b"
     ],
     "language": "python",
     "metadata": {},
     "outputs": []
    },
    {
     "cell_type": "code",
     "collapsed": false,
     "input": [
      "print (a + b) + 2"
     ],
     "language": "python",
     "metadata": {},
     "outputs": []
    },
    {
     "cell_type": "heading",
     "level": 2,
     "metadata": {},
     "source": [
      "Evaluating Lazy Expression Arrays"
     ]
    },
    {
     "cell_type": "markdown",
     "metadata": {},
     "source": [
      "To get a strided ndarray from an expression node, use one of the functions `vals`, `eval_immutable`, or `eval_copy`. The function `vals` gives you the values in any way it chooses, usually doing as little work as possible. The function `eval_immutable` guarantees that the result is an immutable array, so will make copies where data is not already immutable. The function `eval_copy` guarantees that the result is always a fresh copy."
     ]
    },
    {
     "cell_type": "code",
     "collapsed": false,
     "input": [
      "a = nd.ndarray(3)\n",
      "b = nd.ndarray([0, 3.1, 5])\n",
      "print (a + b).vals()\n",
      "print (a + b).eval_immutable()\n",
      "print (a + b).eval_copy()"
     ],
     "language": "python",
     "metadata": {},
     "outputs": []
    },
    {
     "cell_type": "heading",
     "level": 2,
     "metadata": {},
     "source": [
      "Creating New GFuncs"
     ]
    },
    {
     "cell_type": "markdown",
     "metadata": {},
     "source": [
      "In Numpy, ufuncs are created using the C API, specifying a set of builtin type signatures and corresponding kernel functions. In BlazeLocal, gfuncs are created in Python by creating an empty gfunc of the desired type, such as elementwise, then adding kernels defined through ctypes.\n",
      "\n",
      "To demonstrate this, we use a few kernels from the `basic_kernels` shared library included in BlazeLocal. These kernels are already imported, and available in the `nd.elwise_kernels` namespace."
     ]
    },
    {
     "cell_type": "code",
     "collapsed": false,
     "input": [
      "myfunc = nd.gfunc.elwise('myfunc')\n",
      "myfunc.debug_dump()"
     ],
     "language": "python",
     "metadata": {},
     "outputs": []
    },
    {
     "cell_type": "markdown",
     "metadata": {},
     "source": [
      "To demonstrate the dispatch mechanism, we use different operations for int and float types."
     ]
    },
    {
     "cell_type": "code",
     "collapsed": false,
     "input": [
      "myfunc.add_kernel(nd.elwise_kernels.add_int32)\n",
      "myfunc.add_kernel(nd.elwise_kernels.multiply_float64)\n",
      "myfunc.debug_dump()"
     ],
     "language": "python",
     "metadata": {},
     "outputs": []
    },
    {
     "cell_type": "code",
     "collapsed": false,
     "input": [
      "print myfunc([1,2,3,4,5], 2)\n",
      "print myfunc([1.,2.,3.,4.,5.], 2.)"
     ],
     "language": "python",
     "metadata": {},
     "outputs": []
    },
    {
     "cell_type": "markdown",
     "metadata": {},
     "source": [
      "The same can be done to make an elementwise reduction."
     ]
    },
    {
     "cell_type": "code",
     "collapsed": false,
     "input": [
      "myred = nd.gfunc.elwise_reduce('myred')\n",
      "myred.add_kernel(nd.elwise_kernels.add_int32, commutative=True, associative=True)\n",
      "myred.add_kernel(nd.elwise_kernels.multiply_float64, commutative=True, associative=True)"
     ],
     "language": "python",
     "metadata": {},
     "outputs": []
    },
    {
     "cell_type": "code",
     "collapsed": false,
     "input": [
      "print myred([1,2,3,4,5])\n",
      "print myred([1.,2.,3.,4.,5.])"
     ],
     "language": "python",
     "metadata": {},
     "outputs": []
    }
   ],
   "metadata": {}
  }
 ]
}